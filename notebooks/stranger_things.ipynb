{
 "cells": [
  {
   "cell_type": "code",
   "execution_count": null,
   "metadata": {},
   "outputs": [],
   "source": [
    "import numpy as np\n",
    "import scipy as sp\n",
    "from nb_utils import play, to_wav\n",
    "from herbie.generator import Generator\n",
    "from herbie.scale import Scale\n",
    "from herbie.filters import adsr, clip, normalize\n",
    "import herbie.filters\n",
    "import matplotlib.pyplot as plt\n",
    "plt.rcParams[\"figure.figsize\"] = (40,5)"
   ]
  },
  {
   "cell_type": "markdown",
   "metadata": {},
   "source": [
    "# Stranger Things Theme Song"
   ]
  },
  {
   "cell_type": "code",
   "execution_count": null,
   "metadata": {},
   "outputs": [],
   "source": [
    "g = Generator()\n",
    "attack = (1.0, 1/8)\n",
    "decay = (0.4, 1/4)\n",
    "release = (0, 1/8)\n",
    "g.fn = lambda t: np.sin(t) + 0.3 * np.sin(2*t) + 0.2 * np.sin(3*t)\n",
    "g.filters = [\n",
    "    lambda s: clip(s, 0.7, 0.3),\n",
    "    lambda s: adsr(s, attack, decay, release),\n",
    "]"
   ]
  },
  {
   "cell_type": "code",
   "execution_count": null,
   "metadata": {},
   "outputs": [],
   "source": [
    "scale = Scale(\"C\", \"major\", octave=2)\n",
    "melody = scale.sequence(\"C E G B C^ B G E\")\n",
    "melody = g.sequence(melody)\n",
    "melody = np.tile(melody, 10)\n",
    "melody = normalize(melody)\n",
    "play(melody)"
   ]
  },
  {
   "cell_type": "code",
   "execution_count": null,
   "metadata": {},
   "outputs": [],
   "source": [
    "to_wav(\"out/stranger_things.wav\", filters.normalize(melody), 44100)"
   ]
  },
  {
   "cell_type": "markdown",
   "metadata": {},
   "source": [
    "Checking out the sound waves."
   ]
  },
  {
   "cell_type": "code",
   "execution_count": null,
   "metadata": {},
   "outputs": [],
   "source": [
    "plt.plot(melody[:88200])"
   ]
  },
  {
   "cell_type": "markdown",
   "metadata": {},
   "source": [
    "# Casual Exploration"
   ]
  },
  {
   "cell_type": "markdown",
   "metadata": {},
   "source": [
    "## Making a trapezoid"
   ]
  },
  {
   "cell_type": "code",
   "execution_count": null,
   "metadata": {},
   "outputs": [],
   "source": [
    "rise = np.linspace(0, 1, 250)\n",
    "flat = np.ones(500)\n",
    "fall = np.linspace(1, 0, 250)\n",
    "mask = np.concatenate([rise, flat, fall])\n",
    "plt.plot(mask)"
   ]
  }
 ],
 "metadata": {
  "kernelspec": {
   "display_name": "Python 3",
   "language": "python",
   "name": "python3"
  },
  "language_info": {
   "codemirror_mode": {
    "name": "ipython",
    "version": 3
   },
   "file_extension": ".py",
   "mimetype": "text/x-python",
   "name": "python",
   "nbconvert_exporter": "python",
   "pygments_lexer": "ipython3",
   "version": "3.8.2"
  }
 },
 "nbformat": 4,
 "nbformat_minor": 4
}
