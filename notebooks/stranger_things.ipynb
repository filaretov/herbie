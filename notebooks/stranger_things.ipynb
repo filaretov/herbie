{
 "cells": [
  {
   "cell_type": "code",
   "execution_count": null,
   "metadata": {},
   "outputs": [],
   "source": [
    "import numpy as np\n",
    "import scipy as sp\n",
    "from nb_utils import play, to_wav\n",
    "from herbie import Generator\n",
    "import filters\n",
    "import matplotlib.pyplot as plt\n",
    "plt.rcParams[\"figure.figsize\"] = (40,5)"
   ]
  },
  {
   "cell_type": "markdown",
   "metadata": {},
   "source": [
    "# Stranger Things Theme Song"
   ]
  },
  {
   "cell_type": "code",
   "execution_count": null,
   "metadata": {},
   "outputs": [],
   "source": [
    "g = Generator()\n",
    "attack = (1.0, 1/8)\n",
    "decay = (0.4, 1/4)\n",
    "release = (0, 1/8)\n",
    "adsr = lambda s: filters.adsr(s, attack, decay, release)\n",
    "clip = lambda s: filters.clip(s, 0.5, 0.3)\n",
    "g.filters = [clip, adsr]"
   ]
  },
  {
   "cell_type": "code",
   "execution_count": null,
   "metadata": {},
   "outputs": [],
   "source": [
    "melody = g.melody([(\"C2\", 0.25), (\"E2\", 0.25), (\"G2\", 0.25), (\"B2\", 0.25), (\"C3\", 0.25), (\"B2\", 0.25), (\"G2\", 0.25), (\"E2\", 0.25)])\n",
    "melody = np.tile(melody, 10)\n",
    "melody = filters.normalize(melody)\n",
    "play(melody)"
   ]
  },
  {
   "cell_type": "code",
   "execution_count": null,
   "metadata": {},
   "outputs": [],
   "source": [
    "to_wav(\"out/stranger_things.wav\", filters.normalize(melody), 44100)"
   ]
  },
  {
   "cell_type": "markdown",
   "metadata": {},
   "source": [
    "Checking out the sound waves."
   ]
  },
  {
   "cell_type": "code",
   "execution_count": null,
   "metadata": {},
   "outputs": [],
   "source": [
    "plt.plot(melody[:88200])"
   ]
  },
  {
   "cell_type": "markdown",
   "metadata": {},
   "source": [
    "# Casual Exploration"
   ]
  },
  {
   "cell_type": "markdown",
   "metadata": {},
   "source": [
    "## Making a trapezoid"
   ]
  },
  {
   "cell_type": "code",
   "execution_count": null,
   "metadata": {},
   "outputs": [],
   "source": [
    "rise = np.linspace(0, 1, 250)\n",
    "flat = np.ones(500)\n",
    "fall = np.linspace(1, 0, 250)\n",
    "mask = np.concatenate([rise, flat, fall])\n",
    "plt.plot(mask)"
   ]
  }
 ],
 "metadata": {
  "kernelspec": {
   "display_name": "Python 3",
   "language": "python",
   "name": "python3"
  },
  "language_info": {
   "codemirror_mode": {
    "name": "ipython",
    "version": 3
   },
   "file_extension": ".py",
   "mimetype": "text/x-python",
   "name": "python",
   "nbconvert_exporter": "python",
   "pygments_lexer": "ipython3",
   "version": "3.8.2"
  }
 },
 "nbformat": 4,
 "nbformat_minor": 4
}
