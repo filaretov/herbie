{
 "cells": [
  {
   "cell_type": "code",
   "execution_count": null,
   "metadata": {},
   "outputs": [],
   "source": [
    "import numpy as np\n",
    "import scipy as sp\n",
    "import matplotlib.pyplot as plt\n",
    "plt.rcParams[\"figure.figsize\"] = (40, 5)\n",
    "from nb_utils import play, to_wav\n",
    "from herbie.generator import Generator\n",
    "from herbie.scale import Scale\n",
    "from herbie.filters import pad, adsr, clip, normalize"
   ]
  },
  {
   "cell_type": "code",
   "execution_count": null,
   "metadata": {},
   "outputs": [],
   "source": [
    "synth = Generator()\n",
    "attack = (1.0, 1/16)\n",
    "decay = (0.2, 1/4)\n",
    "release = (0, 1/32)\n",
    "s_adsr = lambda s: adsr(s, attack, decay, release)\n",
    "s_clip = lambda s: clip(s, 0.75, 0.5)\n",
    "s_norm = lambda s: normalize(s)\n",
    "synth.filters = [s_clip, s_adsr, s_norm]"
   ]
  },
  {
   "cell_type": "code",
   "execution_count": null,
   "metadata": {},
   "outputs": [],
   "source": [
    "bass = Generator()\n",
    "attack = (1.0, 1/32)\n",
    "decay = (0.64, 1/32)\n",
    "release = (0, 1/8)\n",
    "b_adsr = lambda s: adsr(s, attack, decay, release)\n",
    "b_clip = lambda s: clip(s, 0.2, 0.2)\n",
    "b_norm = lambda s: normalize(s)\n",
    "bass.filters = [b_clip, b_adsr, b_norm]"
   ]
  },
  {
   "cell_type": "markdown",
   "metadata": {},
   "source": [
    "## Fairy Tail"
   ]
  },
  {
   "cell_type": "markdown",
   "metadata": {},
   "source": [
    "### Melody"
   ]
  },
  {
   "cell_type": "code",
   "execution_count": null,
   "metadata": {},
   "outputs": [],
   "source": [
    "scale = Scale(\"D\", \"minor\", octave=4)\n",
    "scale.default_duration = 4\n",
    "bar1 = scale.sequence(\"D^ E^.8 D^.8 C A G A.8 C.8 D^ C\")\n",
    "bar2 = scale.sequence(\"D^ E^.8 D^.8 C A G A.8 C.8 F^ E^\")\n",
    "bar3 = bar1\n",
    "bar4 = scale.sequence(\"F^ E^.8 D^.8 E^ D^.8 C.8 A.8 C.8 D^.8 C.8 F^ E^\")\n",
    "score = bar1 + bar2 + bar1 + bar4\n",
    "melody = synth.sequence(score)\n",
    "play(melody, autoplay=False)"
   ]
  },
  {
   "cell_type": "markdown",
   "metadata": {},
   "source": [
    "### Bass\n",
    "\n",
    "#### Intro"
   ]
  },
  {
   "cell_type": "code",
   "execution_count": null,
   "metadata": {},
   "outputs": [],
   "source": [
    "scale = Scale(\"D\", \"minor\", octave=1)\n",
    "bar1 = scale.sequence(\"D-D^.1 r.2 D-D^.2\")\n",
    "bar2 = scale.sequence(\"F-F^.1 r.2 F-F^.2\")\n",
    "bar3 = scale.sequence(\"C-C^.1 r.2 C-C^.2\")\n",
    "bar4 = scale.sequence(\"B-B^.2 B-B^.2 C-C^.2 C-C^.2\")\n",
    "score = bar1 + bar2 + bar3 + bar4\n",
    "bass_intro = bass.sequence(score)\n",
    "play(bass_intro, autoplay=False)"
   ]
  },
  {
   "cell_type": "markdown",
   "metadata": {},
   "source": [
    "#### Quarter notes"
   ]
  },
  {
   "cell_type": "code",
   "execution_count": null,
   "metadata": {},
   "outputs": [],
   "source": [
    "scale = Scale(\"D\", \"minor\", octave=1)\n",
    "bar1 = scale.sequence(\"D-D^.2 D-D^.2 D-D^.2 D-D^.2\")\n",
    "bar2 = scale.sequence(\"F-F^.2 F-F^.2 F-F^.2 F-F^.2\")\n",
    "bar3 = scale.sequence(\"C-C^.2 C-C^.2 C-C^.2 C-C^.2\")\n",
    "bar4 = scale.sequence(\"B-B^.2 B-B^.2 C-C^.4 C-C^.4 C-C^.4 r.4\")\n",
    "score = bar1 + bar2 + bar3 + bar4\n",
    "bass_quarter = bass.sequence(score)\n",
    "play(bass_quarter, autoplay=False)"
   ]
  },
  {
   "cell_type": "markdown",
   "metadata": {},
   "source": [
    "#### Eighth notes"
   ]
  },
  {
   "cell_type": "code",
   "execution_count": null,
   "metadata": {},
   "outputs": [],
   "source": [
    "scale = Scale(\"D\", \"minor\", octave=1)\n",
    "bar1 = scale.sequence(\"D-D^.4 D-D^.4 D-D^.4 r.4 D-D^.4 D-D^.4 D-D^.4 r.4\")\n",
    "bar2 = scale.sequence(\"F-F^.4 F-F^.4 F-F^.4 r.4 F-F^.4 F-F^.4 F-F^.4 r.4\")\n",
    "bar3 = scale.sequence(\"C-C^.4 C-C^.4 C-C^.4 r.4 C-C^.4 C-C^.4 C-C^.4 r.4\")\n",
    "bar4 = scale.sequence(\"B-B^.4 B-B^.4 B-B^.4 r.4 C-C^.4 C-C^.4 C-C^.4 r.4\")\n",
    "score = bar1 + bar2 + bar3 + bar4\n",
    "bass_eighth = bass.sequence(score)\n",
    "play(bass_eighth, autoplay=False)"
   ]
  },
  {
   "cell_type": "markdown",
   "metadata": {},
   "source": [
    "### Loop it"
   ]
  },
  {
   "cell_type": "code",
   "execution_count": null,
   "metadata": {},
   "outputs": [],
   "source": [
    "melody, bass_intro, bass_quarter, bass_eighth = pad([melody, bass_intro, bass_quarter, bass_eighth])"
   ]
  },
  {
   "cell_type": "code",
   "execution_count": null,
   "metadata": {},
   "outputs": [],
   "source": [
    "part1 = melody * 0.4 + bass_intro\n",
    "part2 = melody * 0.4 + bass_quarter\n",
    "part3 = melody * 0.4 + bass_eighth\n",
    "song = np.concatenate([part1, part2, part3])\n",
    "song = normalize(song)"
   ]
  },
  {
   "cell_type": "markdown",
   "metadata": {},
   "source": [
    "### Let it rip"
   ]
  },
  {
   "cell_type": "code",
   "execution_count": null,
   "metadata": {},
   "outputs": [],
   "source": [
    "play(song)"
   ]
  },
  {
   "cell_type": "code",
   "execution_count": null,
   "metadata": {},
   "outputs": [],
   "source": [
    "to_wav(\"out/fairy_tail.wav\", song.T, 44100)"
   ]
  }
 ],
 "metadata": {
  "kernelspec": {
   "display_name": "Python 3",
   "language": "python",
   "name": "python3"
  },
  "language_info": {
   "codemirror_mode": {
    "name": "ipython",
    "version": 3
   },
   "file_extension": ".py",
   "mimetype": "text/x-python",
   "name": "python",
   "nbconvert_exporter": "python",
   "pygments_lexer": "ipython3",
   "version": "3.8.2"
  }
 },
 "nbformat": 4,
 "nbformat_minor": 4
}
