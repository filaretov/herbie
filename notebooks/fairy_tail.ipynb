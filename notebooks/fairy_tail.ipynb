{
 "cells": [
  {
   "cell_type": "code",
   "execution_count": null,
   "metadata": {},
   "outputs": [],
   "source": [
    "import numpy as np\n",
    "import scipy as sp\n",
    "import matplotlib.pyplot as plt\n",
    "plt.rcParams[\"figure.figsize\"] = (40, 5)\n",
    "from nb_utils import play, to_wav\n",
    "from herbie.generator import Generator\n",
    "from herbie.scale import Scale\n",
    "from herbie.filters import pad, adsr, clip, normalize"
   ]
  },
  {
   "cell_type": "code",
   "execution_count": null,
   "metadata": {},
   "outputs": [],
   "source": [
    "BPM = 120"
   ]
  },
  {
   "cell_type": "code",
   "execution_count": null,
   "metadata": {},
   "outputs": [],
   "source": [
    "synth = Generator()\n",
    "synth.fn = lambda t: np.sin(t) + 0.2*np.sin(2*t) + 0.1*np.sin(3*t)\n",
    "attack = (1.0, 1/16)\n",
    "decay = (0.2, 1/4)\n",
    "release = (0, 1/32)\n",
    "s_adsr = lambda s: adsr(s, attack, decay, release)\n",
    "s_clip = lambda s: clip(s, 0.75, 0.3)\n",
    "s_norm = lambda s: normalize(s)\n",
    "synth.filters = [s_clip, s_adsr, s_norm]"
   ]
  },
  {
   "cell_type": "code",
   "execution_count": null,
   "metadata": {},
   "outputs": [],
   "source": [
    "bass = Generator()\n",
    "bass.fn = lambda t: np.sin(t) + 0.5*np.sin(0.5*t) + 0.1*np.sin(2*t)\n",
    "attack = (1.0, 1/32)\n",
    "decay = (0.64, 1/32)\n",
    "release = (0, 1/8)\n",
    "b_adsr = lambda s: adsr(s, attack, decay, release)\n",
    "b_clip = lambda s: clip(s, 0.2, 0.2)\n",
    "b_norm = lambda s: normalize(s)\n",
    "bass.filters = [b_clip, b_adsr, b_norm]"
   ]
  },
  {
   "cell_type": "markdown",
   "metadata": {},
   "source": [
    "## Fairy Tail"
   ]
  },
  {
   "cell_type": "markdown",
   "metadata": {},
   "source": [
    "### Melody"
   ]
  },
  {
   "cell_type": "markdown",
   "metadata": {},
   "source": [
    "A section"
   ]
  },
  {
   "cell_type": "code",
   "execution_count": null,
   "metadata": {},
   "outputs": [],
   "source": [
    "scale = Scale(\"D\", \"minor\", octave=4, bpm=BPM, default_note=8)\n",
    "bar1 = scale.sequence(\"D^ E^.16 D^.16 C A G A.16 C.16 D^ C\")\n",
    "bar2 = scale.sequence(\"D^ E^.16 D^.16 C A G A.16 C.16 F^ E^\")\n",
    "bar3 = bar1\n",
    "bar4 = scale.sequence(\"F^ E^.16 D^.16 E^ D^.16 C.16 A.16 C.16 D^.16 C.16 F^ E^\")\n",
    "section_A = bar1 + bar2 + bar1 + bar4\n",
    "Asection = synth.sequence(section_A)\n",
    "melody = Asection\n",
    "Asection = np.tile(Asection, 3)\n",
    "play(Asection, autoplay=False)"
   ]
  },
  {
   "cell_type": "markdown",
   "metadata": {},
   "source": [
    "B section"
   ]
  },
  {
   "cell_type": "code",
   "execution_count": null,
   "metadata": {},
   "outputs": [],
   "source": [
    "scale = Scale(\"D\", \"minor\", octave=4, bpm=BPM, default_note=8)\n",
    "bar1 = scale.sequence(\"D E.16 F.16 E G F A G.16 F.16 E\")\n",
    "bar2 = bar1\n",
    "bar3 = bar1\n",
    "\n",
    "scale = Scale(\"D\", \"minor\", octave=5, bpm=BPM, default_note=8)\n",
    "bar4 = scale.sequence(\"D E.16 F.16 E G F A G.16 F.16 E\")\n",
    "\n",
    "scale = Scale(\"D\", \"minor\", octave=4, bpm=BPM, default_note=8)\n",
    "bar5 = scale.sequence(\"D.2 A.2\")\n",
    "bar6 = scale.sequence(\"r.2 A Cv G Cv\")\n",
    "bar7 = scale.sequence(\"F.2 E.2\")\n",
    "bar8 = scale.sequence(\"D.2 E.2\")\n",
    "bar9 = scale.sequence(\"D.2 A.2\")\n",
    "bar10 = scale.sequence(\"C.2 C Cv A F\")\n",
    "bar11 = scale.sequence(\"G.4 Cv.4 F.4 E.4\")\n",
    "bar12 = scale.sequence(\"D.2 E.2\")\n",
    "bar13 = bar1\n",
    "bar14 = bar4\n",
    "bar15 = bar5\n",
    "bar16 = bar6\n",
    "bar17 = bar7\n",
    "bar18 = bar8\n",
    "bar19 = bar9\n",
    "bar20 = bar10\n",
    "bar21 = bar11\n",
    "bar22 = scale.sequence(\"D.2 Cv.2\")\n",
    "section = bar1 + bar2 + bar3 + bar4 + bar5\n",
    "section += bar6 + bar7 + bar8 + bar9\n",
    "section += bar10 + bar11 + bar12 + bar13 + bar14\n",
    "section += bar15 + bar16 + bar17 + bar18 + bar19\n",
    "section += bar20 + bar21 + bar22\n",
    "section += section_A\n",
    "section += section_A\n",
    "Bsection = synth.sequence(section)\n",
    "play(Bsection, autoplay=False)"
   ]
  },
  {
   "cell_type": "markdown",
   "metadata": {},
   "source": [
    "### Bass\n",
    "\n",
    "#### Intro"
   ]
  },
  {
   "cell_type": "code",
   "execution_count": null,
   "metadata": {},
   "outputs": [],
   "source": [
    "scale = Scale(\"D\", \"minor\", octave=1, bpm=BPM)\n",
    "bar1 = scale.sequence(\"D-D^.2 r.4 D-D^.4\")\n",
    "bar2 = scale.sequence(\"F-F^.2 r.4 F-F^.4\")\n",
    "bar3 = scale.sequence(\"C-C^.2 r.4 C-C^.4\")\n",
    "bar4 = scale.sequence(\"B-B^.4 B-B^.4 C-C^.4 C-C^.4\")\n",
    "score = bar1 + bar2 + bar3 + bar4\n",
    "bass_intro = bass.sequence(score)\n",
    "play(bass_intro, autoplay=False)"
   ]
  },
  {
   "cell_type": "markdown",
   "metadata": {},
   "source": [
    "#### Quarter notes"
   ]
  },
  {
   "cell_type": "code",
   "execution_count": null,
   "metadata": {},
   "outputs": [],
   "source": [
    "scale = Scale(\"D\", \"minor\", octave=1, bpm=BPM)\n",
    "bar1 = scale.sequence(\"D-D^.4 D-D^.4 D-D^.4 D-D^.4\")\n",
    "bar2 = scale.sequence(\"F-F^.4 F-F^.4 F-F^.4 F-F^.4\")\n",
    "bar3 = scale.sequence(\"C-C^.4 C-C^.4 C-C^.4 C-C^.4\")\n",
    "bar4 = scale.sequence(\"B-B^.4 B-B^.4 C-C^.8 C-C^.8 C-C^.8 r.8\")\n",
    "score = bar1 + bar2 + bar3 + bar4\n",
    "bass_quarter = bass.sequence(score)\n",
    "play(bass_quarter, autoplay=False)"
   ]
  },
  {
   "cell_type": "markdown",
   "metadata": {},
   "source": [
    "#### Eighth notes"
   ]
  },
  {
   "cell_type": "code",
   "execution_count": null,
   "metadata": {},
   "outputs": [],
   "source": [
    "scale = Scale(\"D\", \"minor\", octave=1, bpm=BPM)\n",
    "bar1 = scale.sequence(\"D-D^.8 D-D^.8 D-D^.8 r.8 D-D^.8 D-D^.8 D-D^.8 r.8\")\n",
    "bar2 = scale.sequence(\"F-F^.8 F-F^.8 F-F^.8 r.8 F-F^.8 F-F^.8 F-F^.8 r.8\")\n",
    "bar3 = scale.sequence(\"C-C^.8 C-C^.8 C-C^.8 r.8 C-C^.8 C-C^.8 C-C^.8 r.8\")\n",
    "bar4 = scale.sequence(\"B-B^.8 B-B^.8 B-B^.8 r.8 C-C^.8 C-C^.8 C-C^.8 r.8\")\n",
    "score = bar1 + bar2 + bar3 + bar4\n",
    "bass_eighth = bass.sequence(score)\n",
    "play(bass_eighth, autoplay=False)"
   ]
  },
  {
   "cell_type": "markdown",
   "metadata": {},
   "source": [
    "### Loop it"
   ]
  },
  {
   "cell_type": "code",
   "execution_count": null,
   "metadata": {},
   "outputs": [],
   "source": [
    "print([len(x) for x in [melody, bass_intro, bass_quarter, bass_eighth]])\n",
    "melody, bass_intro, bass_quarter, bass_eighth = pad([melody, bass_intro, bass_quarter, bass_eighth])\n",
    "print([len(x) for x in [melody, bass_intro, bass_quarter, bass_eighth]])"
   ]
  },
  {
   "cell_type": "code",
   "execution_count": null,
   "metadata": {},
   "outputs": [],
   "source": [
    "part1 = melody * 0.4 + bass_intro\n",
    "part2 = melody * 0.4 + bass_quarter\n",
    "part3 = melody * 0.4 + bass_eighth\n",
    "song = np.concatenate([part1, part2, part3, Bsection])\n",
    "song = normalize(song)\n",
    "print(len(song))"
   ]
  },
  {
   "cell_type": "markdown",
   "metadata": {},
   "source": [
    "### Let it rip"
   ]
  },
  {
   "cell_type": "code",
   "execution_count": null,
   "metadata": {},
   "outputs": [],
   "source": [
    "play(song)"
   ]
  },
  {
   "cell_type": "code",
   "execution_count": null,
   "metadata": {},
   "outputs": [],
   "source": [
    "to_wav(\"../out/fairy_tail.wav\", song, 44100)"
   ]
  }
 ],
 "metadata": {
  "kernelspec": {
   "display_name": "herbie",
   "language": "python",
   "name": "herbie"
  },
  "language_info": {
   "codemirror_mode": {
    "name": "ipython",
    "version": 3
   },
   "file_extension": ".py",
   "mimetype": "text/x-python",
   "name": "python",
   "nbconvert_exporter": "python",
   "pygments_lexer": "ipython3",
   "version": "3.8.5"
  }
 },
 "nbformat": 4,
 "nbformat_minor": 4
}
