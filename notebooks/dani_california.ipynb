{
 "cells": [
  {
   "cell_type": "code",
   "execution_count": null,
   "metadata": {
    "tags": []
   },
   "outputs": [],
   "source": [
    "import numpy as np\n",
    "import scipy.signal as signal\n",
    "import matplotlib.pyplot as plt\n",
    "\n",
    "from herbie.scale import Scale\n",
    "from herbie.generator import Generator\n",
    "import herbie.filters as filters\n",
    "from nb_utils import play, to_wav"
   ]
  },
  {
   "cell_type": "markdown",
   "metadata": {},
   "source": [
    "# Dani California"
   ]
  },
  {
   "cell_type": "markdown",
   "metadata": {},
   "source": [
    "## Bass"
   ]
  },
  {
   "cell_type": "code",
   "execution_count": null,
   "metadata": {
    "tags": []
   },
   "outputs": [],
   "source": [
    "bass = Generator()\n",
    "bass.fn = lambda t: np.sin(t) + 0.1 * np.sin(2*t)\n",
    "attack = (1, 1/20)\n",
    "decay = (0.3, 1/8)\n",
    "release = (0, 1/4)\n",
    "adsr = lambda s: filters.adsr(s, attack, decay, release)\n",
    "clip = lambda s: filters.clip(s, 0.96, 0.5)\n",
    "bass.filters = [clip, adsr]"
   ]
  },
  {
   "cell_type": "code",
   "execution_count": null,
   "metadata": {
    "tags": []
   },
   "outputs": [],
   "source": [
    "am = Scale(\"A\", \"minor\", octave=1, bpm=90)\n",
    "am.default_note = 8\n",
    "b1 = am.sequence(\"A A A^ r.16 Ev.16\")\n",
    "b2 = am.sequence(\"Gv Gv G F\")\n",
    "b3 = am.sequence(\"D D D^ r.16 D.16\")\n",
    "b4 = am.sequence(\"G.16 A^.16 G E D\")\n",
    "score = b1 + b2 + b3 + b4\n",
    "bassline = bass.sequence(score)\n",
    "bassline = np.tile(bassline, 3)\n",
    "play(bassline, autoplay=False)"
   ]
  },
  {
   "cell_type": "markdown",
   "metadata": {},
   "source": [
    "## Octave bass"
   ]
  },
  {
   "cell_type": "code",
   "execution_count": null,
   "metadata": {
    "tags": []
   },
   "outputs": [],
   "source": [
    "bass2 = Generator()\n",
    "attack = (1, 1/20)\n",
    "decay = (0.3, 1/8)\n",
    "release = (0, 1/4)\n",
    "adsr = lambda s: filters.adsr(s, attack, decay, release)\n",
    "clip = lambda s: filters.clip(s, 0.5, 0.5)\n",
    "bass2.filters = [clip, adsr]"
   ]
  },
  {
   "cell_type": "code",
   "execution_count": null,
   "metadata": {
    "tags": []
   },
   "outputs": [],
   "source": [
    "am = Scale(\"A\", \"minor\", octave=2, bpm=90)\n",
    "am.default_note = 8\n",
    "b1 = am.sequence(\"A A A^ r.16 Ev.16\")\n",
    "b2 = am.sequence(\"Gv Gv G F\")\n",
    "b3 = am.sequence(\"D D D^ r.16 D.16\")\n",
    "b4 = am.sequence(\"G.16 A^.16 G E D\")\n",
    "score = b1 + b2 + b3 + b4\n",
    "bassline2 = bass2.sequence(score)\n",
    "bassline2 = np.tile(bassline2, 3)\n",
    "play(bassline2, autoplay=False)"
   ]
  },
  {
   "cell_type": "markdown",
   "metadata": {},
   "source": [
    "## Chords"
   ]
  },
  {
   "cell_type": "code",
   "execution_count": null,
   "metadata": {},
   "outputs": [],
   "source": [
    "rhy = Generator()\n",
    "attack = (1, 1/16)\n",
    "decay = (0.8, 1/8)\n",
    "release = (0, 1/8)\n",
    "adsr = lambda s: filters.adsr(s, attack, decay, release)\n",
    "clip = lambda s: filters.clip(s, 0.8, 0.2)\n",
    "rhy.filters = [clip, adsr]"
   ]
  },
  {
   "cell_type": "code",
   "execution_count": null,
   "metadata": {},
   "outputs": [],
   "source": [
    "am = Scale(\"A\", \"minor\", octave=4, bpm=90)\n",
    "b1 = am.sequence(\"A-C-E.2\")\n",
    "b2 = am.sequence(\"Gv-B-D.2\")\n",
    "b3 = am.sequence(\"D-F-A.2\")\n",
    "b4 = am.sequence(\"F-A-C.2\")\n",
    "score = b1 + b2 + b3 + b4\n",
    "chords = rhy.sequence(score)\n",
    "chords = np.tile(chords, 3)\n",
    "play(chords, autoplay=False)"
   ]
  },
  {
   "cell_type": "markdown",
   "metadata": {},
   "source": [
    "## Mash em all together"
   ]
  },
  {
   "cell_type": "code",
   "execution_count": null,
   "metadata": {},
   "outputs": [],
   "source": [
    "from typing import List\n",
    "def masher(parts: List[np.array]) -> np.array:\n",
    "    mlen = np.max([len(p) for p in parts])\n",
    "    padded = []\n",
    "    for p in parts:\n",
    "        padded.append(np.pad(p, (0, mlen - len(p))))\n",
    "    mashed = np.sum(padded, axis=0)\n",
    "    return filters.normalize(mashed)"
   ]
  },
  {
   "cell_type": "code",
   "execution_count": null,
   "metadata": {},
   "outputs": [],
   "source": [
    "song = np.array([masher([bassline*0.5, bassline2, chords*0.3]), masher([chords*0.3, bassline])])\n",
    "play(song)"
   ]
  },
  {
   "cell_type": "code",
   "execution_count": null,
   "metadata": {},
   "outputs": [],
   "source": [
    "to_wav(\"out/dani_california.wav\", song.T)"
   ]
  }
 ],
 "metadata": {
  "kernelspec": {
   "display_name": "Python 3 (ipykernel)",
   "language": "python",
   "name": "python3"
  },
  "language_info": {
   "codemirror_mode": {
    "name": "ipython",
    "version": 3
   },
   "file_extension": ".py",
   "mimetype": "text/x-python",
   "name": "python",
   "nbconvert_exporter": "python",
   "pygments_lexer": "ipython3",
   "version": "3.10.9"
  }
 },
 "nbformat": 4,
 "nbformat_minor": 4
}
