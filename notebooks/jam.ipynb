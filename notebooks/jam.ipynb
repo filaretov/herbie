{
 "cells": [
  {
   "cell_type": "code",
   "execution_count": null,
   "metadata": {},
   "outputs": [],
   "source": [
    "import numpy as np\n",
    "from scipy import signal\n",
    "from herbie import Scale, Generator, filters\n",
    "from nb_utils import play"
   ]
  },
  {
   "cell_type": "code",
   "execution_count": null,
   "metadata": {},
   "outputs": [],
   "source": [
    "synth = Generator()\n",
    "synth.fn = lambda t: np.sin(t) + 0.1*signal.sawtooth(t * 3)\n",
    "synth.filters = [\n",
    "    lambda s: filters.clip(s, 0.2, 0.4),\n",
    "    lambda s: filters.adsr(s, (0.6, 1/4), (0.4, 1/2), (0, 1/16)),\n",
    "]\n",
    "\n",
    "clippy = Generator()\n",
    "clippy.filters = [\n",
    "    lambda s: filters.clip(s, 0.1, 0.9),\n",
    "    lambda s: filters.adsr(s, (0.6, 1/4), (0.4, 1/2), (0, 1/16)),\n",
    "]\n",
    "\n",
    "moog = Generator()\n",
    "moog.fn = lambda t: np.sin(t) + 0.8 * np.sin(t * 2) + 0.4 * np.sin(t * 4)\n",
    "moog.filters = [\n",
    "    lambda s: filters.clip(s, 0.1, 0.4),\n",
    "    lambda s: filters.adsr(s, (1, 1/16), (0.32, 1/16), (0, 1/64)),\n",
    "]\n",
    "\n",
    "sprinkles = Generator()\n",
    "sprinkles.fn = lambda t: np.sin(t)\n",
    "sprinkles.filters = [\n",
    "    lambda s: filters.clip(s, 0.7, 0.9),\n",
    "    lambda s: filters.adsr(s, (1, 1/3), (0.1, 1/3), (0, 1/64)),\n",
    "]"
   ]
  },
  {
   "cell_type": "code",
   "execution_count": null,
   "metadata": {},
   "outputs": [],
   "source": [
    "n_measures = 4\n",
    "scale = Scale(\"C\", \"major\", bpm=90)\n",
    "scale.octave = 4\n",
    "chords = []\n",
    "chords += scale.sequence(\"C-G.1 A-E.1 F-C.1 G-D.1\")\n",
    "chords *= n_measures\n",
    "\n",
    "scale.octave = 1\n",
    "bass = []\n",
    "bass += scale.sequence(\"C.8 C^.8 D E F\")\n",
    "bass += scale.sequence(\"A.8 A^.8 C^ B A\")\n",
    "bass += scale.sequence(\"F.8 F^.8 G A B\")\n",
    "bass += scale.sequence(\"G.8 G^.8 A B C^\")\n",
    "bass *= n_measures\n",
    "\n",
    "scale.octave = 5\n",
    "melody = []\n",
    "melody += scale.sequence(\"E.8 E.8 r r r\")\n",
    "melody += scale.sequence(\"C.8 C.8 r r r\")\n",
    "melody += scale.sequence(\"A.8 A.8 r r r\")\n",
    "melody += scale.sequence(\"B.8 B.8 r r r\")\n",
    "melody *= n_measures\n",
    "\n",
    "chords2 = clippy.sequence(chords)\n",
    "chords = synth.sequence(chords)\n",
    "melody = sprinkles.sequence(melody)\n",
    "bass = moog.sequence(bass)\n",
    "\n",
    "audio = [chords2*0.4 + chords*0.3 + melody*0.1, chords*0.1 + bass]\n",
    "play(audio)"
   ]
  }
 ],
 "metadata": {
  "kernelspec": {
   "display_name": "herbie",
   "language": "python",
   "name": "herbie"
  },
  "language_info": {
   "codemirror_mode": {
    "name": "ipython",
    "version": 3
   },
   "file_extension": ".py",
   "mimetype": "text/x-python",
   "name": "python",
   "nbconvert_exporter": "python",
   "pygments_lexer": "ipython3",
   "version": "3.8.6"
  }
 },
 "nbformat": 4,
 "nbformat_minor": 4
}
