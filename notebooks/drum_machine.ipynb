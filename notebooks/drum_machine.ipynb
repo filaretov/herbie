{
 "cells": [
  {
   "cell_type": "markdown",
   "metadata": {},
   "source": [
    "Let me rephrase the filename, I'll be *trying* to make a drum machine. Let's go!"
   ]
  },
  {
   "cell_type": "code",
   "execution_count": null,
   "metadata": {
    "tags": []
   },
   "outputs": [],
   "source": [
    "import numpy as np\n",
    "import scipy.signal as signal\n",
    "import matplotlib.pyplot as plt\n",
    "\n",
    "import herbie as hb\n",
    "from nb_utils import play, to_wav"
   ]
  },
  {
   "cell_type": "code",
   "execution_count": null,
   "metadata": {
    "tags": []
   },
   "outputs": [],
   "source": [
    "np.random.random()"
   ]
  },
  {
   "cell_type": "code",
   "execution_count": null,
   "metadata": {
    "tags": []
   },
   "outputs": [],
   "source": [
    "scale = hb.Scale(mode='chromatic', octave=1, default_note=8)\n",
    "kick = hb.Generator()\n",
    "\n",
    "kick.fn = lambda f: np.sin(f * (1.0 - 0.3 * np.random.random()))\n",
    "attack = (1, 1/64)\n",
    "decay = (0.01, 1/2)\n",
    "release = (0, 1/16)\n",
    "adsr = lambda s: hb.filters.adsr(s, attack, decay, release)\n",
    "clip = lambda s: hb.filters.clip(s, 0.90, 0.5)\n",
    "kick.filters = [adsr]\n",
    "play(kick.sequence(scale.sequence(\"A A A A A A A A A A A A A A A A A A A A A A A A A A A\")))"
   ]
  },
  {
   "cell_type": "code",
   "execution_count": null,
   "metadata": {
    "tags": []
   },
   "outputs": [],
   "source": [
    "256 / 44100"
   ]
  },
  {
   "cell_type": "code",
   "execution_count": null,
   "metadata": {
    "tags": []
   },
   "outputs": [],
   "source": [
    "scale = hb.Scale(mode=\"chromatic\", octave=8, default_note=8)\n",
    "melody = scale.sequence(\"C C C C\")\n",
    "hihat = hb.Generator(fn=signal.sawtooth)\n",
    "hihat.attack = (1, 1/32)\n",
    "hihat.decay = (0, 1/16)\n",
    "play(hihat.sequence(melody))"
   ]
  },
  {
   "cell_type": "code",
   "execution_count": null,
   "metadata": {
    "tags": []
   },
   "outputs": [],
   "source": [
    "play(hihat.melody([\"C5\", \"C5\", \"C5\", \"C5\"]))"
   ]
  }
 ],
 "metadata": {
  "kernelspec": {
   "display_name": "Python 3 (ipykernel)",
   "language": "python",
   "name": "python3"
  },
  "language_info": {
   "codemirror_mode": {
    "name": "ipython",
    "version": 3
   },
   "file_extension": ".py",
   "mimetype": "text/x-python",
   "name": "python",
   "nbconvert_exporter": "python",
   "pygments_lexer": "ipython3",
   "version": "3.10.9"
  }
 },
 "nbformat": 4,
 "nbformat_minor": 4
}
