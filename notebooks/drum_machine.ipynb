{
 "cells": [
  {
   "cell_type": "markdown",
   "metadata": {},
   "source": [
    "Let me rephrase the filename, I'll be *trying* to make a drum machine. Let's go!"
   ]
  },
  {
   "cell_type": "code",
   "execution_count": null,
   "metadata": {},
   "outputs": [],
   "source": [
    "import numpy as np\n",
    "import scipy.signal as signal\n",
    "import matplotlib.pyplot as plt\n",
    "\n",
    "import herbie as hb\n",
    "from nb_utils import play, to_wav"
   ]
  },
  {
   "cell_type": "code",
   "execution_count": null,
   "metadata": {},
   "outputs": [],
   "source": [
    "np.random.random()"
   ]
  },
  {
   "cell_type": "code",
   "execution_count": null,
   "metadata": {},
   "outputs": [],
   "source": [
    "scale = hb.Scale(mode='chromatic', octave=1, default_note=8)\n",
    "kick = hb.Generator()\n",
    "\n",
    "kick.fn = lambda f: np.sin(f * (1.0 - 0.3 * np.random.random()))\n",
    "attack = (1, 1/64)\n",
    "decay = (0.01, 1/2)\n",
    "release = (0, 1/16)\n",
    "adsr = lambda s: hb.filters.adsr(s, attack, decay, release)\n",
    "clip = lambda s: hb.filters.clip(s, 0.90, 0.5)\n",
    "kick.filters = [adsr]\n",
    "play(kick.sequence(scale.sequence(\"A A A A A A A A A A A A A A A A A A A A A A A A A A A\")))"
   ]
  },
  {
   "cell_type": "code",
   "execution_count": null,
   "metadata": {},
   "outputs": [],
   "source": [
    "256 / 44100"
   ]
  },
  {
   "cell_type": "code",
   "execution_count": null,
   "metadata": {},
   "outputs": [],
   "source": [
    "hihat = Generator(fn=signal.sawtooth)\n",
    "hihat.attack = (1, 1/32)\n",
    "hihat.decay = (0, 1/16)"
   ]
  },
  {
   "cell_type": "code",
   "execution_count": null,
   "metadata": {},
   "outputs": [],
   "source": [
    "play(hihat.melody([\"C5\", \"C5\", \"C5\", \"C5\"]))"
   ]
  }
 ],
 "metadata": {
  "kernelspec": {
   "display_name": "herbie",
   "language": "python",
   "name": "herbie"
  },
  "language_info": {
   "codemirror_mode": {
    "name": "ipython",
    "version": 3
   },
   "file_extension": ".py",
   "mimetype": "text/x-python",
   "name": "python",
   "nbconvert_exporter": "python",
   "pygments_lexer": "ipython3",
   "version": "3.8.6"
  }
 },
 "nbformat": 4,
 "nbformat_minor": 4
}
