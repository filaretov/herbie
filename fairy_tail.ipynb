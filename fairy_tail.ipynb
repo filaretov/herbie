{
 "cells": [
  {
   "cell_type": "code",
   "execution_count": null,
   "metadata": {},
   "outputs": [],
   "source": [
    "import numpy as np\n",
    "import scipy as sp\n",
    "import matplotlib.pyplot as plt\n",
    "plt.rcParams[\"figure.figsize\"] = (40, 5)\n",
    "from nb_utils import play, to_wav\n",
    "from quothe import Generator\n",
    "from filters import normalize"
   ]
  },
  {
   "cell_type": "code",
   "execution_count": null,
   "metadata": {},
   "outputs": [],
   "source": [
    "synth = Generator()\n",
    "synth.attack = (1.0, 1/16)\n",
    "synth.decay = (0.2, 1/4)\n",
    "synth.release = (0, 1/32)"
   ]
  },
  {
   "cell_type": "code",
   "execution_count": null,
   "metadata": {},
   "outputs": [],
   "source": [
    "bass = Generator()\n",
    "bass.attack = (1.0, 1/32)\n",
    "bass.decay = (0.75, 1/32)\n",
    "bass.release = (0, 1/8)"
   ]
  },
  {
   "cell_type": "markdown",
   "metadata": {},
   "source": [
    "## Fairy Tail"
   ]
  },
  {
   "cell_type": "markdown",
   "metadata": {},
   "source": [
    "### Melody"
   ]
  },
  {
   "cell_type": "code",
   "execution_count": null,
   "metadata": {},
   "outputs": [],
   "source": [
    "m_bar1 = synth.melody([(\"D5\", 1/4), (\"E5\", 1/8), (\"D5\", 1/8), (\"C5\", 1/4), (\"A4\", 1/4), (\"G4\", 1/4), (\"A4\", 1/8), (\"C5\", 1/8), (\"D5\", 1/4), (\"C5\", 1/4)])\n",
    "m_bar2 = synth.melody([(\"D5\", 1/4), (\"E5\", 1/8), (\"D5\", 1/8), (\"C5\", 1/4), (\"A4\", 1/4), (\"G4\", 1/4), (\"A4\", 1/8), (\"C5\", 1/8), (\"F5\", 1/4), (\"E5\", 1/4)])\n",
    "m_bar3 = synth.melody([(\"F5\", 1/4), (\"E5\", 1/8), (\"D5\", 1/8), (\"E5\", 1/4), (\"D5\", 1/8), (\"C5\", 1/8), (\"A4\", 1/8), (\"C5\", 1/8), (\"D5\", 1/8), (\"C5\", 1/8), (\"F5\", 1/4), (\"E5\", 1/4)])\n",
    "fairy_melody = np.concatenate([m_bar1, m_bar2, m_bar1, m_bar3])\n",
    "play(fairy_melody, autoplay=False)"
   ]
  },
  {
   "cell_type": "markdown",
   "metadata": {},
   "source": [
    "### Bass"
   ]
  },
  {
   "cell_type": "code",
   "execution_count": null,
   "metadata": {},
   "outputs": [],
   "source": [
    "b_bar1 = bass.melody([([\"D1\", \"D2\"], 1), ([\"D1\", \"D2\"], 1)])\n",
    "b_bar2 = bass.melody([([\"F1\", \"F2\"], 1), ([\"F1\", \"F2\"], 1)])\n",
    "b_bar3 = bass.melody([([\"C2\", \"C3\"], 1), ([\"C2\", \"C3\"], 1)])\n",
    "b_bar4 = bass.melody([([\"Bb1\", \"Bb2\"], 1), ([\"C2\", \"C3\"], 1)])\n",
    "fairy_bass = np.concatenate([b_bar1, b_bar2, b_bar3, b_bar4]) * 2\n",
    "play(fairy_bass, autoplay=False)"
   ]
  },
  {
   "cell_type": "markdown",
   "metadata": {},
   "source": [
    "### Pad some missing values\n",
    "My *ahem* accurate functions sometimes lop of a few elements of the sound array, so I have to equalize the two parts. Since only lopping off occurs, and no additive nonsense, I just have to pad one array a little."
   ]
  },
  {
   "cell_type": "code",
   "execution_count": null,
   "metadata": {},
   "outputs": [],
   "source": [
    "bass_n = len(fairy_bass)\n",
    "melody_n = len(fairy_melody)\n",
    "print(f\"{bass_n=}, {melody_n=}\")\n",
    "diff = melody_n - bass_n\n",
    "print(diff)\n",
    "if diff < 0: # bass is longer\n",
    "    fairy_melody = np.pad(fairy_melody, (0, np.abs(diff)))\n",
    "elif diff > 0: # melody is longer\n",
    "    fairy_bass = np.pad(fairy_bass, (0, np.abs(diff)))\n",
    "print(fairy_melody.shape, fairy_bass.shape)"
   ]
  },
  {
   "cell_type": "markdown",
   "metadata": {},
   "source": [
    "### Loop it"
   ]
  },
  {
   "cell_type": "code",
   "execution_count": null,
   "metadata": {},
   "outputs": [],
   "source": [
    "left = normalize(fairy_melody * 0.8 + fairy_bass * 0.4)\n",
    "right = normalize(fairy_melody * 0.4 + fairy_bass * 0.8)\n",
    "fairy_tail = np.tile(np.array([left, right]), 8)"
   ]
  },
  {
   "cell_type": "markdown",
   "metadata": {},
   "source": [
    "### Let it rip"
   ]
  },
  {
   "cell_type": "code",
   "execution_count": null,
   "metadata": {},
   "outputs": [],
   "source": [
    "play(fairy_tail)"
   ]
  },
  {
   "cell_type": "code",
   "execution_count": null,
   "metadata": {},
   "outputs": [],
   "source": [
    "to_wav(\"out/fairy_tail.wav\", fairy_tail.T, 44100)"
   ]
  }
 ],
 "metadata": {
  "kernelspec": {
   "display_name": "Python 3",
   "language": "python",
   "name": "python3"
  },
  "language_info": {
   "codemirror_mode": {
    "name": "ipython",
    "version": 3
   },
   "file_extension": ".py",
   "mimetype": "text/x-python",
   "name": "python",
   "nbconvert_exporter": "python",
   "pygments_lexer": "ipython3",
   "version": "3.8.2"
  }
 },
 "nbformat": 4,
 "nbformat_minor": 4
}
