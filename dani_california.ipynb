{
 "cells": [
  {
   "cell_type": "code",
   "execution_count": null,
   "metadata": {},
   "outputs": [],
   "source": [
    "import numpy as np\n",
    "import scipy.signal as signal\n",
    "import matplotlib.pyplot as plt\n",
    "\n",
    "from quothe import Generator\n",
    "from filters import clip, normalize\n",
    "from nb_utils import play, to_wav"
   ]
  },
  {
   "cell_type": "markdown",
   "metadata": {},
   "source": [
    "# Dani California"
   ]
  },
  {
   "cell_type": "code",
   "execution_count": null,
   "metadata": {},
   "outputs": [],
   "source": [
    "g = Generator()"
   ]
  },
  {
   "cell_type": "code",
   "execution_count": null,
   "metadata": {},
   "outputs": [],
   "source": [
    "b1 = g.melody([(\"A2\", 1/2), (\"A2\", 1/2), (\"A3\", 3/4), (\"E2\", 1/4)])\n",
    "b2 = g.melody([(\"G2\", 1/2), (\"G2\", 1/2), (\"G3\", 1/2), (\"F3\", 1/2)])\n",
    "b3 = g.melody([(\"D3\", 1/2), (\"D3\", 1/2), (\"D4\", 3/4), (\"D3\", 1/4)])\n",
    "b4 = g.melody([(\"G3\", 1/4), (\"A3\", 1/4), (\"G3\", 1/2), (\"E3\", 1/2), (\"D3\", 1/2)])\n",
    "m = np.concatenate([b1, b2, b3, b4])\n",
    "m = np.tile(m, 3)\n",
    "play(m)"
   ]
  },
  {
   "cell_type": "code",
   "execution_count": null,
   "metadata": {},
   "outputs": [],
   "source": [
    "to_wav(\"out/dani_california.wav\", m)"
   ]
  }
 ],
 "metadata": {
  "kernelspec": {
   "display_name": "Python 3",
   "language": "python",
   "name": "python3"
  },
  "language_info": {
   "codemirror_mode": {
    "name": "ipython",
    "version": 3
   },
   "file_extension": ".py",
   "mimetype": "text/x-python",
   "name": "python",
   "nbconvert_exporter": "python",
   "pygments_lexer": "ipython3",
   "version": "3.8.2"
  }
 },
 "nbformat": 4,
 "nbformat_minor": 4
}
