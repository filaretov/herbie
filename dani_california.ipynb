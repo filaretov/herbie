{
 "cells": [
  {
   "cell_type": "code",
   "execution_count": null,
   "metadata": {},
   "outputs": [],
   "source": [
    "import numpy as np\n",
    "import scipy.signal as signal\n",
    "import matplotlib.pyplot as plt\n",
    "\n",
    "import filters\n",
    "from quothe import Generator\n",
    "from nb_utils import play, to_wav"
   ]
  },
  {
   "cell_type": "markdown",
   "metadata": {},
   "source": [
    "# Dani California\n",
    "\n",
    "Because if you don't know what to play, Dani California is always awesome.\n",
    "\n",
    "Disclaimer: Chad's amazing drumming is gonna be missing until I figure out how to make drum sounds with sine waves."
   ]
  },
  {
   "cell_type": "markdown",
   "metadata": {},
   "source": [
    "## Bass"
   ]
  },
  {
   "cell_type": "code",
   "execution_count": null,
   "metadata": {},
   "outputs": [],
   "source": [
    "bass = Generator()\n",
    "attack = (1, 1/20)\n",
    "decay = (0.3, 1/8)\n",
    "release = (0, 1/4)\n",
    "adsr = lambda s: filters.adsr(s, attack, decay, release)\n",
    "clip = lambda s: filters.clip(s, 0.95, 0.4)\n",
    "bass.filters = [clip, adsr]"
   ]
  },
  {
   "cell_type": "code",
   "execution_count": null,
   "metadata": {},
   "outputs": [],
   "source": [
    "b1 = bass.melody([(\"A2\", 1/2), (\"A2\", 1/2), (\"A3\", 5/8), (\"--\", 1/8), (\"E2\", 1/4)])\n",
    "b2 = bass.melody([(\"G2\", 1/2), (\"G2\", 1/2), (\"G3\", 1/2), (\"F3\", 1/2)])\n",
    "b3 = bass.melody([(\"D3\", 1/2), (\"D3\", 1/2), (\"D4\", 5/8), (\"--\", 1/8), (\"D3\", 1/4)])\n",
    "b4 = bass.melody([(\"G3\", 1/4), (\"A3\", 1/4), (\"G3\", 1/2), (\"E3\", 1/2), (\"D3\", 1/2)])\n",
    "bassline = np.concatenate([b1, b2, b3, b4])\n",
    "bassline = np.tile(bassline, 3)\n",
    "play(bassline, autoplay=False)"
   ]
  },
  {
   "cell_type": "markdown",
   "metadata": {},
   "source": [
    "## Rhythm Guitar"
   ]
  },
  {
   "cell_type": "code",
   "execution_count": null,
   "metadata": {},
   "outputs": [],
   "source": [
    "rhy = Generator()\n",
    "attack = (1, 1/16)\n",
    "decay = (0.8, 1/8)\n",
    "release = (0, 1/8)\n",
    "adsr = lambda s: filters.adsr(s, attack, decay, release)\n",
    "clip = lambda s: filters.clip(s, 0.55, 0.4)\n",
    "rhy.filters = [clip, adsr]"
   ]
  },
  {
   "cell_type": "code",
   "execution_count": null,
   "metadata": {},
   "outputs": [],
   "source": [
    "b1 = rhy.chord([\"A4\", \"C5\", \"E5\", \"A5\"], duration=2)\n",
    "b2 = rhy.chord([\"G4\", \"B4\", \"D5\", \"G5\"], duration=2)\n",
    "b3 = rhy.chord([\"D4\", \"F4\", \"A4\", \"D5\"], duration=2)\n",
    "b4 = rhy.chord([\"D4\", \"F4\", \"A4\", \"D5\"], duration=2)\n",
    "chords = np.concatenate([b1, b2, b3, b4])\n",
    "chords = np.tile(chords, 3)\n",
    "play(chords, autoplay=False)"
   ]
  },
  {
   "cell_type": "markdown",
   "metadata": {},
   "source": [
    "## Mash em all together"
   ]
  },
  {
   "cell_type": "code",
   "execution_count": null,
   "metadata": {},
   "outputs": [],
   "source": [
    "from typing import List\n",
    "def masher(parts: List[np.array]) -> np.array:\n",
    "    mlen = np.max([len(p) for p in parts])\n",
    "    padded = []\n",
    "    for p in parts:\n",
    "        padded.append(np.pad(p, (0, mlen - len(p))))\n",
    "    mashed = np.sum(padded, axis=0)\n",
    "    return filters.normalize(mashed)"
   ]
  },
  {
   "cell_type": "code",
   "execution_count": null,
   "metadata": {},
   "outputs": [],
   "source": [
    "song = np.array([masher([bassline, chords*0.3]), masher([bassline, chords*0.1])])\n",
    "play(song)"
   ]
  },
  {
   "cell_type": "code",
   "execution_count": null,
   "metadata": {},
   "outputs": [],
   "source": [
    "to_wav(\"out/dani_california.wav\", song.T)"
   ]
  }
 ],
 "metadata": {
  "kernelspec": {
   "display_name": "Python 3",
   "language": "python",
   "name": "python3"
  },
  "language_info": {
   "codemirror_mode": {
    "name": "ipython",
    "version": 3
   },
   "file_extension": ".py",
   "mimetype": "text/x-python",
   "name": "python",
   "nbconvert_exporter": "python",
   "pygments_lexer": "ipython3",
   "version": "3.8.2"
  }
 },
 "nbformat": 4,
 "nbformat_minor": 4
}
